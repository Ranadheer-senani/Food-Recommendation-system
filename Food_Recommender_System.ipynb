{
  "nbformat": 4,
  "nbformat_minor": 0,
  "metadata": {
    "kernelspec": {
      "display_name": "Python 3",
      "language": "python",
      "name": "python3"
    },
    "language_info": {
      "codemirror_mode": {
        "name": "ipython",
        "version": 3
      },
      "file_extension": ".py",
      "mimetype": "text/x-python",
      "name": "python",
      "nbconvert_exporter": "python",
      "pygments_lexer": "ipython3",
      "version": "3.7.4"
    },
    "colab": {
      "name": "Food Recommender System.ipynb",
      "provenance": [],
      "include_colab_link": true
    },
    "accelerator": "GPU"
  },
  "cells": [
    {
      "cell_type": "markdown",
      "metadata": {
        "id": "view-in-github",
        "colab_type": "text"
      },
      "source": [
        "<a href=\"https://colab.research.google.com/github/Ranadheer-senani/Food-Recommendation-system/blob/main/Food_Recommender_System.ipynb\" target=\"_parent\"><img src=\"https://colab.research.google.com/assets/colab-badge.svg\" alt=\"Open In Colab\"/></a>"
      ]
    },
    {
      "cell_type": "code",
      "metadata": {
        "colab": {
          "base_uri": "https://localhost:8080/"
        },
        "id": "gGPWzlMG4yAe",
        "outputId": "874ea038-acd5-4cb7-b6d7-f2608d85254f"
      },
      "source": [
        "!git clone 'https://github.com/Ranadheer-senani/Food-Recommendation-system'"
      ],
      "execution_count": null,
      "outputs": [
        {
          "output_type": "stream",
          "text": [
            "Cloning into 'Food-Recommendation-system'...\n",
            "remote: Enumerating objects: 7, done.\u001b[K\n",
            "remote: Counting objects: 100% (7/7), done.\u001b[K\n",
            "remote: Compressing objects: 100% (6/6), done.\u001b[K\n",
            "remote: Total 7 (delta 0), reused 3 (delta 0), pack-reused 0\u001b[K\n",
            "Unpacking objects: 100% (7/7), done.\n"
          ],
          "name": "stdout"
        }
      ]
    },
    {
      "cell_type": "code",
      "metadata": {
        "id": "RK_3DhBp3Rt4"
      },
      "source": [
        "import pandas as pd\n",
        "import numpy as np"
      ],
      "execution_count": 1,
      "outputs": []
    },
    {
      "cell_type": "code",
      "metadata": {
        "colab": {
          "base_uri": "https://localhost:8080/",
          "height": 195
        },
        "id": "oa2Usi6A3Rt9",
        "outputId": "5661247f-50f5-43a5-f043-73a8f52c586b"
      },
      "source": [
        "df = pd.read_csv(\"/content/Food-Recommendation-system/PP_users.csv\",header = 0)\n",
        "df.head(5)"
      ],
      "execution_count": 2,
      "outputs": [
        {
          "output_type": "execute_result",
          "data": {
            "text/html": [
              "<div>\n",
              "<style scoped>\n",
              "    .dataframe tbody tr th:only-of-type {\n",
              "        vertical-align: middle;\n",
              "    }\n",
              "\n",
              "    .dataframe tbody tr th {\n",
              "        vertical-align: top;\n",
              "    }\n",
              "\n",
              "    .dataframe thead th {\n",
              "        text-align: right;\n",
              "    }\n",
              "</style>\n",
              "<table border=\"1\" class=\"dataframe\">\n",
              "  <thead>\n",
              "    <tr style=\"text-align: right;\">\n",
              "      <th></th>\n",
              "      <th>u</th>\n",
              "      <th>techniques</th>\n",
              "      <th>items</th>\n",
              "      <th>n_items</th>\n",
              "      <th>ratings</th>\n",
              "      <th>n_ratings</th>\n",
              "    </tr>\n",
              "  </thead>\n",
              "  <tbody>\n",
              "    <tr>\n",
              "      <th>0</th>\n",
              "      <td>0</td>\n",
              "      <td>[8, 0, 0, 5, 6, 0, 0, 1, 0, 9, 1, 0, 0, 0, 1, ...</td>\n",
              "      <td>[1118, 27680, 32541, 137353, 16428, 28815, 658...</td>\n",
              "      <td>31</td>\n",
              "      <td>[5.0, 5.0, 5.0, 5.0, 5.0, 5.0, 5.0, 4.0, 4.0, ...</td>\n",
              "      <td>31</td>\n",
              "    </tr>\n",
              "    <tr>\n",
              "      <th>1</th>\n",
              "      <td>1</td>\n",
              "      <td>[11, 0, 0, 2, 12, 0, 0, 0, 0, 14, 5, 0, 0, 0, ...</td>\n",
              "      <td>[122140, 77036, 156817, 76957, 68818, 155600, ...</td>\n",
              "      <td>39</td>\n",
              "      <td>[5.0, 5.0, 5.0, 5.0, 5.0, 5.0, 5.0, 5.0, 5.0, ...</td>\n",
              "      <td>39</td>\n",
              "    </tr>\n",
              "    <tr>\n",
              "      <th>2</th>\n",
              "      <td>2</td>\n",
              "      <td>[13, 0, 0, 7, 5, 0, 1, 2, 1, 11, 0, 1, 0, 0, 1...</td>\n",
              "      <td>[168054, 87218, 35731, 1, 20475, 9039, 124834,...</td>\n",
              "      <td>27</td>\n",
              "      <td>[3.0, 4.0, 4.0, 4.0, 4.0, 4.0, 4.0, 4.0, 5.0, ...</td>\n",
              "      <td>27</td>\n",
              "    </tr>\n",
              "    <tr>\n",
              "      <th>3</th>\n",
              "      <td>3</td>\n",
              "      <td>[498, 13, 4, 218, 376, 3, 2, 33, 16, 591, 10, ...</td>\n",
              "      <td>[163193, 156352, 102888, 19914, 169438, 55772,...</td>\n",
              "      <td>1513</td>\n",
              "      <td>[5.0, 5.0, 5.0, 5.0, 4.0, 4.0, 5.0, 5.0, 5.0, ...</td>\n",
              "      <td>1513</td>\n",
              "    </tr>\n",
              "    <tr>\n",
              "      <th>4</th>\n",
              "      <td>4</td>\n",
              "      <td>[161, 1, 1, 86, 93, 0, 0, 11, 2, 141, 0, 16, 0...</td>\n",
              "      <td>[72857, 38652, 160427, 55772, 119999, 141777, ...</td>\n",
              "      <td>376</td>\n",
              "      <td>[5.0, 5.0, 5.0, 5.0, 4.0, 4.0, 5.0, 4.0, 5.0, ...</td>\n",
              "      <td>376</td>\n",
              "    </tr>\n",
              "  </tbody>\n",
              "</table>\n",
              "</div>"
            ],
            "text/plain": [
              "   u  ... n_ratings\n",
              "0  0  ...        31\n",
              "1  1  ...        39\n",
              "2  2  ...        27\n",
              "3  3  ...      1513\n",
              "4  4  ...       376\n",
              "\n",
              "[5 rows x 6 columns]"
            ]
          },
          "metadata": {
            "tags": []
          },
          "execution_count": 2
        }
      ]
    },
    {
      "cell_type": "code",
      "metadata": {
        "id": "RW7RuDTt3Rt_"
      },
      "source": [
        "items = df['items'].apply(lambda x: np.array(eval(x)), 0)"
      ],
      "execution_count": 3,
      "outputs": []
    },
    {
      "cell_type": "code",
      "metadata": {
        "id": "1BZcJK3N3Rt_"
      },
      "source": [
        "ratings = df['ratings'].apply(lambda x: np.array(eval(x)), 0)"
      ],
      "execution_count": 4,
      "outputs": []
    },
    {
      "cell_type": "code",
      "metadata": {
        "colab": {
          "base_uri": "https://localhost:8080/"
        },
        "id": "bYhgQNqv3RuA",
        "outputId": "1c352cd6-42e3-4f85-b7ac-fef5e65936ba"
      },
      "source": [
        "items[0]"
      ],
      "execution_count": 15,
      "outputs": [
        {
          "output_type": "execute_result",
          "data": {
            "text/plain": [
              "array([  1118,  27680,  32541, 137353,  16428,  28815,  65803, 148743,\n",
              "       129939,  99377,  33025, 173660,  46706, 100515, 101276,  93176,\n",
              "        70383,  24204,      0, 172222,  19472,  90038,  84063,  71578,\n",
              "        11190,  58387,  27749, 101225,  85204,  89385, 161655])"
            ]
          },
          "metadata": {
            "tags": []
          },
          "execution_count": 15
        }
      ]
    },
    {
      "cell_type": "code",
      "metadata": {
        "colab": {
          "base_uri": "https://localhost:8080/"
        },
        "id": "afpODcsz3RuA",
        "outputId": "70c674b5-d41e-41bc-bdf5-acdd04dfab8a"
      },
      "source": [
        "ratings[0]"
      ],
      "execution_count": 16,
      "outputs": [
        {
          "output_type": "execute_result",
          "data": {
            "text/plain": [
              "array([5., 5., 5., 5., 5., 5., 5., 4., 4., 4., 5., 5., 4., 5., 5., 5., 5.,\n",
              "       4., 4., 5., 5., 5., 5., 5., 5., 5., 5., 5., 5., 5., 5.])"
            ]
          },
          "metadata": {
            "tags": []
          },
          "execution_count": 16
        }
      ]
    },
    {
      "cell_type": "code",
      "metadata": {
        "id": "yvuQv2pY3RuA"
      },
      "source": [
        "item_names = set()\n",
        "for i in items:\n",
        "    for j in i:\n",
        "        item_names.add(j)"
      ],
      "execution_count": null,
      "outputs": []
    },
    {
      "cell_type": "code",
      "metadata": {
        "id": "a4x-bDLb3RuA"
      },
      "source": [
        "data_mat = np.full((25076,12538), np.nan)"
      ],
      "execution_count": 8,
      "outputs": []
    },
    {
      "cell_type": "code",
      "metadata": {
        "id": "70sQmdHq3RuB"
      },
      "source": [
        "sparse_mat = np.zeros((25076,12538))"
      ],
      "execution_count": 9,
      "outputs": []
    },
    {
      "cell_type": "code",
      "metadata": {
        "id": "2rajiFAb3RuB"
      },
      "source": [
        "for user in range(25076):\r\n",
        "  for item,rating in zip(items[user],ratings[user]):\r\n",
        "      if item < 12538:\r\n",
        "        data_mat[user][item] = rating\r\n",
        "        sparse_mat[user][item] = 1"
      ],
      "execution_count": 17,
      "outputs": []
    },
    {
      "cell_type": "code",
      "metadata": {
        "id": "dNQyXowNHN6c"
      },
      "source": [
        ""
      ],
      "execution_count": null,
      "outputs": []
    }
  ]
}